{
 "cells": [
  {
   "cell_type": "markdown",
   "metadata": {
    "id": "BMuYa8yYyK0S"
   },
   "source": []
  },
  {
   "cell_type": "code",
   "execution_count": null,
   "metadata": {
    "id": "ns1JrqAD0zMy"
   },
   "outputs": [],
   "source": []
  },
  {
   "cell_type": "markdown",
   "metadata": {
    "id": "i6XXQfDVyD_z"
   },
   "source": [
    "This notebook demonstrates the main features of the AACProcessors library. First, let's install the package:\n"
   ]
  },
  {
   "cell_type": "code",
   "execution_count": 1,
   "metadata": {
    "colab": {
     "base_uri": "https://localhost:8080/"
    },
    "id": "9ErrWy_0yMLS",
    "outputId": "93e6690d-93d6-45a0-954d-ba851eb2b875"
   },
   "outputs": [
    {
     "name": "stdout",
     "output_type": "stream",
     "text": [
      "Collecting aac-processors==0.1.1\n",
      "  Downloading aac_processors-0.1.1-py3-none-any.whl.metadata (17 kB)\n",
      "Requirement already satisfied: beautifulsoup4>=4.12.2 in /usr/local/lib/python3.10/dist-packages (from aac-processors==0.1.1) (4.12.3)\n",
      "Requirement already satisfied: lxml>=4.9.3 in /usr/local/lib/python3.10/dist-packages (from aac-processors==0.1.1) (5.3.0)\n",
      "Requirement already satisfied: openpyxl>=3.1.2 in /usr/local/lib/python3.10/dist-packages (from aac-processors==0.1.1) (3.1.5)\n",
      "Requirement already satisfied: pandas>=2.1.1 in /usr/local/lib/python3.10/dist-packages (from aac-processors==0.1.1) (2.2.2)\n",
      "Requirement already satisfied: soupsieve>1.2 in /usr/local/lib/python3.10/dist-packages (from beautifulsoup4>=4.12.2->aac-processors==0.1.1) (2.6)\n",
      "Requirement already satisfied: et-xmlfile in /usr/local/lib/python3.10/dist-packages (from openpyxl>=3.1.2->aac-processors==0.1.1) (2.0.0)\n",
      "Requirement already satisfied: numpy>=1.22.4 in /usr/local/lib/python3.10/dist-packages (from pandas>=2.1.1->aac-processors==0.1.1) (1.26.4)\n",
      "Requirement already satisfied: python-dateutil>=2.8.2 in /usr/local/lib/python3.10/dist-packages (from pandas>=2.1.1->aac-processors==0.1.1) (2.8.2)\n",
      "Requirement already satisfied: pytz>=2020.1 in /usr/local/lib/python3.10/dist-packages (from pandas>=2.1.1->aac-processors==0.1.1) (2024.2)\n",
      "Requirement already satisfied: tzdata>=2022.7 in /usr/local/lib/python3.10/dist-packages (from pandas>=2.1.1->aac-processors==0.1.1) (2024.2)\n",
      "Requirement already satisfied: six>=1.5 in /usr/local/lib/python3.10/dist-packages (from python-dateutil>=2.8.2->pandas>=2.1.1->aac-processors==0.1.1) (1.17.0)\n",
      "Downloading aac_processors-0.1.1-py3-none-any.whl (52 kB)\n",
      "\u001b[2K   \u001b[90m━━━━━━━━━━━━━━━━━━━━━━━━━━━━━━━━━━━━━━━━\u001b[0m \u001b[32m52.5/52.5 kB\u001b[0m \u001b[31m4.0 MB/s\u001b[0m eta \u001b[36m0:00:00\u001b[0m\n",
      "\u001b[?25hInstalling collected packages: aac-processors\n",
      "Successfully installed aac-processors-0.1.1\n"
     ]
    }
   ],
   "source": [
    "!pip install aac-processors"
   ]
  },
  {
   "cell_type": "markdown",
   "metadata": {
    "id": "R993Ad9oyVw4"
   },
   "source": [
    "## Download Example Files\n",
    "Let's get some example AAC files to work with"
   ]
  },
  {
   "cell_type": "code",
   "execution_count": 2,
   "metadata": {
    "colab": {
     "base_uri": "https://localhost:8080/"
    },
    "id": "kNKJpxQkyawL",
    "outputId": "5844b3d5-ec8e-4b66-9b40-753ddf0c72d1"
   },
   "outputs": [
    {
     "name": "stdout",
     "output_type": "stream",
     "text": [
      "--2025-01-17 05:46:03--  https://raw.githubusercontent.com/willwade/AACProcessors/main/examples/demofiles/SimpleTest.gridset\n",
      "Resolving raw.githubusercontent.com (raw.githubusercontent.com)... 185.199.108.133, 185.199.109.133, 185.199.110.133, ...\n",
      "Connecting to raw.githubusercontent.com (raw.githubusercontent.com)|185.199.108.133|:443... connected.\n",
      "HTTP request sent, awaiting response... 200 OK\n",
      "Length: 366974 (358K) [application/octet-stream]\n",
      "Saving to: ‘SimpleTest.gridset’\n",
      "\n",
      "\rSimpleTest.gridset    0%[                    ]       0  --.-KB/s               \rSimpleTest.gridset  100%[===================>] 358.37K  --.-KB/s    in 0.03s   \n",
      "\n",
      "2025-01-17 05:46:03 (11.3 MB/s) - ‘SimpleTest.gridset’ saved [366974/366974]\n",
      "\n"
     ]
    }
   ],
   "source": [
    "!wget https://raw.githubusercontent.com/willwade/AACProcessors/main/examples/demofiles/SimpleTest.gridset"
   ]
  },
  {
   "cell_type": "markdown",
   "metadata": {
    "id": "1FggOhgNyh_s"
   },
   "source": [
    "1. View File Structure. Let's examine the structure of a Grid3 file:"
   ]
  },
  {
   "cell_type": "code",
   "execution_count": 3,
   "metadata": {
    "colab": {
     "base_uri": "https://localhost:8080/"
    },
    "id": "VHQjnmPaymqw",
    "outputId": "bf6250f0-692d-4532-fa6e-56cdd0f14e98"
   },
   "outputs": [
    {
     "name": "stdout",
     "output_type": "stream",
     "text": [
      "Viewing structure of SimpleTest.gridset\n",
      "\n",
      "=== AAC Board Structure ===\n",
      "\n",
      "Root Page:\n",
      "  📄 Start (4x4 grid)\n",
      "    Row 0:\n",
      "      [Empty] (0, 0)\n",
      "      🔀 quick chat (0, 1)\n",
      "        └─ Says: quick chat\n",
      "        └─ Goes to: quick chat\n",
      "      🔀 don't like (0, 2)\n",
      "        └─ Says: don't like\n",
      "        └─ Goes to: Don't like\n",
      "      🔀 something different (0, 3)\n",
      "        └─ Says: something different\n",
      "        └─ Goes to: something different\n",
      "    Row 1:\n",
      "      [Empty] (1, 0)\n",
      "      🔀 something's wrong (1, 1)\n",
      "        └─ Says: something's wrong\n",
      "        └─ Goes to: something's wrong\n",
      "      🔀 I want (1, 2)\n",
      "        └─ Says: I want\n",
      "        └─ Goes to: I want\n",
      "      🔀 Comment (1, 3)\n",
      "        └─ Says: Comment\n",
      "        └─ Goes to: Comment\n",
      "    Row 2:\n",
      "      [Empty] (2, 0)\n",
      "      🔀 About me (2, 1)\n",
      "        └─ Says: About me\n",
      "        └─ Goes to: About me\n",
      "      └─ Target Page:\n",
      "          📄 About me (5x4 grid)\n",
      "            Row 0:\n",
      "              🗣️ [No Label] (0, 0)\n",
      "              🗣️ Back (0, 1)\n",
      "                └─ Says: Back\n",
      "              🔀 Family (0, 2)\n",
      "                └─ Says: Family\n",
      "                └─ Goes to: Family\n",
      "              └─ Target Page:\n",
      "                  📄 Family (5x7 grid)\n",
      "                    Row 0:\n",
      "                      [Empty] (0, 0)\n",
      "                      🗣️ Back (0, 1)\n",
      "                        └─ Says: Back\n",
      "                      [Empty] (0, 2)\n",
      "                      🗣️ Younger Sister (0, 3)\n",
      "                        └─ Says: Younger Sister\n",
      "                      [Empty] (0, 4)\n",
      "                      [Empty] (0, 5)\n",
      "                      [Empty] (0, 6)\n",
      "                    Row 1:\n",
      "                      [Empty] (1, 0)\n",
      "                      🗣️ Dad (1, 1)\n",
      "                        └─ Says: Dad\n",
      "                      [Empty] (1, 2)\n",
      "                      [Empty] (1, 3)\n",
      "                      [Empty] (1, 4)\n",
      "                      [Empty] (1, 5)\n",
      "                      [Empty] (1, 6)\n",
      "                    Row 2:\n",
      "                      [Empty] (2, 0)\n",
      "                      [Empty] (2, 1)\n",
      "                      [Empty] (2, 2)\n",
      "                      🔀 Cousins (2, 3)\n",
      "                        └─ Says: Cousins\n",
      "                        └─ Goes to: Cousins\n",
      "                      [Empty] (2, 4)\n",
      "                      [Empty] (2, 5)\n",
      "                      [Empty] (2, 6)\n",
      "                    Row 3:\n",
      "                      [Empty] (3, 0)\n",
      "                      🗣️ Mum (3, 1)\n",
      "                        └─ Says: Mum\n",
      "                      [Empty] (3, 2)\n",
      "                      [Empty] (3, 3)\n",
      "                      [Empty] (3, 4)\n",
      "                      [Empty] (3, 5)\n",
      "                      [Empty] (3, 6)\n",
      "                    Row 4:\n",
      "                      [Empty] (4, 0)\n",
      "                      [Empty] (4, 1)\n",
      "                      [Empty] (4, 2)\n",
      "                      🔀 Aunts and Uncles (4, 3)\n",
      "                        └─ Says: Aunts and Uncles\n",
      "                        └─ Goes to: Aunts and Uncles\n",
      "                      [Empty] (4, 4)\n",
      "                      [Empty] (4, 5)\n",
      "                      [Empty] (4, 6)\n",
      "              🗣️ Vegetarian (0, 3)\n",
      "                └─ Says: Vegetarian\n",
      "            Row 1:\n",
      "              [Empty] (1, 0)\n",
      "              🗣️ Name (1, 1)\n",
      "                └─ Says: Name\n",
      "              🔀 Pets (1, 2)\n",
      "                └─ Says: Pets\n",
      "                └─ Goes to: Pets\n",
      "              [Empty] (1, 3)\n",
      "            Row 2:\n",
      "              [Empty] (2, 0)\n",
      "              🗣️ Age (2, 1)\n",
      "                └─ Says: Age\n",
      "              🔀 Places I have been (2, 2)\n",
      "                └─ Says: Places I have been\n",
      "                └─ Goes to: Places I have been\n",
      "              [Empty] (2, 3)\n",
      "            Row 3:\n",
      "              [Empty] (3, 0)\n",
      "              🗣️ My birthday (3, 1)\n",
      "                └─ Says: My birthday\n",
      "              🗣️ like to look (3, 2)\n",
      "                └─ Says: like to look\n",
      "              [Empty] (3, 3)\n",
      "            Row 4:\n",
      "              [Empty] (4, 0)\n",
      "              [Empty] (4, 1)\n",
      "              [Empty] (4, 2)\n",
      "              [Empty] (4, 3)\n",
      "      🔀 I'm asking a question (2, 2)\n",
      "        └─ Says: I'm asking a question\n",
      "        └─ Goes to: questions\n",
      "      🔀 I feel (2, 3)\n",
      "        └─ Says: I feel\n",
      "        └─ Goes to: Feelings\n",
      "      └─ Target Page:\n",
      "          📄 Feelings (6x4 grid)\n",
      "            Row 0:\n",
      "              🗣️ [No Label] (0, 0)\n",
      "              🗣️ Back (0, 1)\n",
      "                └─ Says: Back\n",
      "              🗣️ angry. (0, 2)\n",
      "                └─ Says: angry.\n",
      "              [Empty] (0, 3)\n",
      "            Row 1:\n",
      "              [Empty] (1, 0)\n",
      "              🗣️ happy. (1, 1)\n",
      "                └─ Says: happy.\n",
      "              🗣️ excited. (1, 2)\n",
      "                └─ Says: excited.\n",
      "              [Empty] (1, 3)\n",
      "            Row 2:\n",
      "              [Empty] (2, 0)\n",
      "              🗣️ sad. (2, 1)\n",
      "                └─ Says: sad.\n",
      "              🗣️ fantastic. (2, 2)\n",
      "                └─ Says: fantastic.\n",
      "              [Empty] (2, 3)\n",
      "            Row 3:\n",
      "              [Empty] (3, 0)\n",
      "              🗣️ tired. (3, 1)\n",
      "                └─ Says: tired.\n",
      "              [Empty] (3, 2)\n",
      "              [Empty] (3, 3)\n",
      "            Row 4:\n",
      "              [Empty] (4, 0)\n",
      "              [Empty] (4, 1)\n",
      "              [Empty] (4, 2)\n",
      "              [Empty] (4, 3)\n",
      "            Row 5:\n",
      "              [Empty] (5, 0)\n",
      "              [Empty] (5, 1)\n",
      "              [Empty] (5, 2)\n",
      "              [Empty] (5, 3)\n",
      "    Row 3:\n",
      "      [Empty] (3, 0)\n",
      "      🔀 like (3, 1)\n",
      "        └─ Says: like\n",
      "        └─ Goes to: Like\n",
      "      🔀 Places to go (3, 2)\n",
      "        └─ Says: Places to go\n",
      "        └─ Goes to: let's go\n",
      "      🔀 Alphabet (3, 3)\n",
      "        └─ Says: Alphabet\n",
      "        └─ Goes to: Alphabet\n",
      "\n",
      "=== Navigation Analysis ===\n",
      "\n",
      "Total Pages: 6\n",
      "\n",
      "Dead End Pages (no way back):\n",
      "  - Family\n",
      "  - Feelings\n",
      "\n",
      "Orphaned Pages (no way to reach):\n",
      "  - Drinks\n",
      "  - About me 2\n"
     ]
    }
   ],
   "source": [
    "import os\n",
    "\n",
    "from aac_processors import GridsetProcessor, viewer\n",
    "\n",
    "# Initialize processor\n",
    "processor = GridsetProcessor()\n",
    "gridset_file = \"SimpleTest.gridset\"\n",
    "if os.path.exists(gridset_file):\n",
    "    print(f\"Viewing structure of {os.path.basename(gridset_file)}\")\n",
    "    tree = processor.load_into_tree(gridset_file)\n",
    "    viewer.print_tree(tree)"
   ]
  },
  {
   "cell_type": "markdown",
   "metadata": {
    "id": "a6umv1dgzfbM"
   },
   "source": [
    "Extract some texts.."
   ]
  },
  {
   "cell_type": "code",
   "execution_count": 4,
   "metadata": {
    "colab": {
     "base_uri": "https://localhost:8080/"
    },
    "id": "DNqi8R_R03_P",
    "outputId": "537303f6-cdf0-47ec-ad94-e0c102ed3a0b"
   },
   "outputs": [
    {
     "name": "stdout",
     "output_type": "stream",
     "text": [
      "\n",
      "Extracted 43 texts from SimpleTest.gridset\n",
      "Sample texts: ['Mum', 'orange squash', 'J 2 O', 'Age', 'something different']\n"
     ]
    }
   ],
   "source": [
    "texts = processor.extract_texts(gridset_file)\n",
    "print(f\"\\nExtracted {len(texts)} texts from {os.path.basename(gridset_file)}\")\n",
    "print(\"Sample texts:\", texts[:5])"
   ]
  },
  {
   "cell_type": "code",
   "execution_count": 5,
   "metadata": {
    "colab": {
     "base_uri": "https://localhost:8080/"
    },
    "id": "3Fan4ZJl1p4j",
    "outputId": "4ac4f068-7fbb-4ec2-de3f-7f64fb2e77bf"
   },
   "outputs": [
    {
     "name": "stdout",
     "output_type": "stream",
     "text": [
      "Collecting deep-translator\n",
      "  Downloading deep_translator-1.11.4-py3-none-any.whl.metadata (30 kB)\n",
      "Requirement already satisfied: beautifulsoup4<5.0.0,>=4.9.1 in /usr/local/lib/python3.10/dist-packages (from deep-translator) (4.12.3)\n",
      "Requirement already satisfied: requests<3.0.0,>=2.23.0 in /usr/local/lib/python3.10/dist-packages (from deep-translator) (2.32.3)\n",
      "Requirement already satisfied: soupsieve>1.2 in /usr/local/lib/python3.10/dist-packages (from beautifulsoup4<5.0.0,>=4.9.1->deep-translator) (2.6)\n",
      "Requirement already satisfied: charset-normalizer<4,>=2 in /usr/local/lib/python3.10/dist-packages (from requests<3.0.0,>=2.23.0->deep-translator) (3.4.0)\n",
      "Requirement already satisfied: idna<4,>=2.5 in /usr/local/lib/python3.10/dist-packages (from requests<3.0.0,>=2.23.0->deep-translator) (3.10)\n",
      "Requirement already satisfied: urllib3<3,>=1.21.1 in /usr/local/lib/python3.10/dist-packages (from requests<3.0.0,>=2.23.0->deep-translator) (2.2.3)\n",
      "Requirement already satisfied: certifi>=2017.4.17 in /usr/local/lib/python3.10/dist-packages (from requests<3.0.0,>=2.23.0->deep-translator) (2024.12.14)\n",
      "Downloading deep_translator-1.11.4-py3-none-any.whl (42 kB)\n",
      "\u001b[?25l   \u001b[90m━━━━━━━━━━━━━━━━━━━━━━━━━━━━━━━━━━━━━━━━\u001b[0m \u001b[32m0.0/42.3 kB\u001b[0m \u001b[31m?\u001b[0m eta \u001b[36m-:--:--\u001b[0m\r\u001b[2K   \u001b[90m━━━━━━━━━━━━━━━━━━━━━━━━━━━━━━━━━━━━━━━━\u001b[0m \u001b[32m42.3/42.3 kB\u001b[0m \u001b[31m2.5 MB/s\u001b[0m eta \u001b[36m0:00:00\u001b[0m\n",
      "\u001b[?25hInstalling collected packages: deep-translator\n",
      "Successfully installed deep-translator-1.11.4\n",
      "Translated 'Mum' to 'Mamá'\n",
      "Translated 'orange squash' to 'Calabaza naranja'\n",
      "Translated 'J 2 O' to 'J 2 O'\n",
      "Translated 'Age' to 'Edad'\n",
      "Translated 'something different' to 'algo diferente'\n",
      "Translated 'Back to home page' to 'Volver a la página de inicio'\n",
      "Translated 'Comment' to 'Comentario'\n",
      "Translated 'I feel' to 'Siento'\n",
      "Translated 'Name' to 'Nombre'\n",
      "Translated 'happy.' to 'feliz.'\n",
      "Translated 'Milk shake' to 'Batido'\n",
      "Translated 'Family' to 'Familia'\n",
      "Translated 'don't like' to 'No me gusta'\n",
      "Translated 'I'm asking a question' to 'Estoy haciendo una pregunta'\n",
      "Translated 'blackcurrant squash' to 'calabaza grosella negra'\n",
      "Translated 'Younger Sister' to 'Hermana menor'\n",
      "Translated 'tired.' to 'cansado.'\n",
      "Translated 'About me' to 'Acerca de mí'\n",
      "Translated 'sad.' to 'triste.'\n",
      "Translated 'excited.' to 'entusiasmado.'\n",
      "Translated 'Home' to 'Hogar'\n",
      "Translated 'Back' to 'Atrás'\n",
      "Translated 'Dad' to 'Papá'\n",
      "Translated 'Birthday' to 'Cumpleaños'\n",
      "Translated 'Pets' to 'Mascotas'\n",
      "Translated 'Places I have been' to 'Lugares en los que he estado'\n",
      "Translated 'Aunts and Uncles' to 'Tías y tíos'\n",
      "Translated 'like to look' to 'Me gusta mirar'\n",
      "Translated 'Vegetable smoothie' to 'Batido de verduras'\n",
      "Translated 'My birthday' to 'Mi cumpleaños'\n",
      "Translated 'People at home' to 'Gente en casa'\n",
      "Translated 'Alphabet' to 'Alfabeto'\n",
      "Translated 'angry.' to 'enojado.'\n",
      "Translated 'something's wrong' to 'algo esta mal'\n",
      "Translated 'Places to go' to 'Lugares para ir'\n",
      "Translated 'quick chat' to 'Charla rápida'\n",
      "Translated 'like' to 'como'\n",
      "Translated 'Older Sister' to 'Hermana mayor'\n",
      "Translated 'I want' to 'Quiero'\n",
      "Translated 'fantastic.' to 'fantástico.'\n",
      "Translated 'Vegetarian' to 'Vegetariano'\n",
      "Translated 'Cousins' to 'Primos'\n",
      "Translated 'Water' to 'Agua'\n",
      "GridsetProcessor: Saved changes to /tmp/tmpc9sddipx/Grids/About me/grid.xml\n",
      "GridsetProcessor: Saved changes to /tmp/tmpc9sddipx/Grids/Drinks/grid.xml\n",
      "GridsetProcessor: Saved changes to /tmp/tmpc9sddipx/Grids/About me 2/grid.xml\n",
      "GridsetProcessor: Saved changes to /tmp/tmpc9sddipx/Grids/Start/grid.xml\n",
      "GridsetProcessor: Saved changes to /tmp/tmpc9sddipx/Grids/Family/grid.xml\n",
      "GridsetProcessor: Saved changes to /tmp/tmpc9sddipx/Grids/Feelings/grid.xml\n",
      "Translated gridset saved to: translated_SimpleTest.gridset\n"
     ]
    }
   ],
   "source": [
    "# Install necessary library if not already installed\n",
    "try:\n",
    "    from deep_translator import GoogleTranslator\n",
    "except ImportError:\n",
    "    !pip install deep-translator\n",
    "    from deep_translator import GoogleTranslator\n",
    "\n",
    "# Translate texts using deep-translator\n",
    "translations = {}\n",
    "translator = GoogleTranslator(source=\"auto\", target=\"es\")\n",
    "\n",
    "for text in texts:\n",
    "    if text and isinstance(text, str):  # Check if text is not empty and is a string\n",
    "        try:\n",
    "            translated = translator.translate(text)\n",
    "            translations[text] = translated\n",
    "            print(f\"Translated '{text}' to '{translated}'\")\n",
    "        except Exception as e:\n",
    "            print(f\"Error translating '{text}': {e}\")\n",
    "            translations[text] = text  # Keep original text if translation fails\n",
    "\n",
    "# Process and save the translated gridset file\n",
    "translated_file = processor.process_texts(\n",
    "    gridset_file, translations, \"translated_SimpleTest.gridset\"\n",
    ")\n",
    "print(f\"Translated gridset saved to: {translated_file}\")"
   ]
  },
  {
   "cell_type": "code",
   "execution_count": 6,
   "metadata": {
    "colab": {
     "base_uri": "https://localhost:8080/"
    },
    "id": "yZWjZ8FJ25kW",
    "outputId": "594f0c55-63e3-4991-b82e-6d79d959eca7"
   },
   "outputs": [
    {
     "name": "stdout",
     "output_type": "stream",
     "text": [
      "Loading translated_SimpleTest.gridset\n",
      "Loaded tree with 6 pages\n",
      "Converting to coughdrop format at translated_grid.obz\n",
      "Successfully converted to OBZ: translated_grid.obz\n"
     ]
    }
   ],
   "source": [
    "from aac_processors.cli import convert_format\n",
    "\n",
    "# After creating translated_SimpleTest.gridset\n",
    "output_obz = convert_format(\n",
    "    input_file=\"translated_SimpleTest.gridset\",\n",
    "    output_format=\"coughdrop\",\n",
    "    output_path=\"translated_grid.obz\",\n",
    ")\n",
    "\n",
    "if output_obz:\n",
    "    print(f\"Successfully converted to OBZ: {output_obz}\")\n",
    "else:\n",
    "    print(\"Conversion failed\")"
   ]
  },
  {
   "cell_type": "code",
   "execution_count": 7,
   "metadata": {
    "colab": {
     "base_uri": "https://localhost:8080/"
    },
    "id": "AIOxCW2YvhEL",
    "outputId": "7ebd0d13-7ac2-4e10-eaf2-bd423b29962d"
   },
   "outputs": [
    {
     "name": "stdout",
     "output_type": "stream",
     "text": [
      "Successfully converted to OBZ: translated_grid.obz\n",
      "Error: 'renderedImage' not found in the response.\n",
      "Response: {\n",
      "  \"error\": \"Failed to process OBZ file\",\n",
      "  \"details\": \"a.images is not iterable\"\n",
      "}\n"
     ]
    }
   ],
   "source": [
    "import json\n",
    "import subprocess\n",
    "\n",
    "from IPython.display import Image, display\n",
    "\n",
    "if output_obz:\n",
    "    print(f\"Successfully converted to OBZ: {output_obz}\")\n",
    "\n",
    "    try:\n",
    "        # Upload the file to obfviewer\n",
    "        upload_command = [\n",
    "            \"curl\",\n",
    "            \"-X\",\n",
    "            \"POST\",\n",
    "            \"-H\",\n",
    "            \"Content-Type: application/zip\",\n",
    "            \"--data-binary\",\n",
    "            f\"@{output_obz}\",\n",
    "            \"https://obfviewer.acecentre.net/api/upload\",\n",
    "        ]\n",
    "\n",
    "        result = subprocess.run(upload_command, capture_output=True, text=True)\n",
    "\n",
    "        if result.returncode == 0:\n",
    "            response_json = json.loads(result.stdout)\n",
    "\n",
    "            if \"renderedImage\" in response_json:\n",
    "                image_data = response_json[\"renderedImage\"]\n",
    "                image_data = image_data.split(\",\", 1)[1]  # Remove data URL prefix\n",
    "\n",
    "                with open(\"board.png\", \"wb\") as f:\n",
    "                    f.write(\n",
    "                        bytes.fromhex(image_data.replace(\"\\n\", \"\"))\n",
    "                    )  # added for fix base64 decoding\n",
    "                display(Image(\"board.png\"))\n",
    "\n",
    "            else:\n",
    "                print(\"Error: 'renderedImage' not found in the response.\")\n",
    "                print(\"Response:\", json.dumps(response_json, indent=2))\n",
    "\n",
    "        else:\n",
    "            print(\"Error uploading file:\")\n",
    "            print(result.stderr)\n",
    "\n",
    "    except Exception as e:\n",
    "        print(f\"An error occurred during the upload or image extraction process: {e}\")\n",
    "\n",
    "else:\n",
    "    print(\"Conversion failed\")"
   ]
  }
 ],
 "metadata": {
  "colab": {
   "provenance": []
  },
  "kernelspec": {
   "display_name": "Python 3",
   "name": "python3"
  },
  "language_info": {
   "name": "python"
  }
 },
 "nbformat": 4,
 "nbformat_minor": 0
}
